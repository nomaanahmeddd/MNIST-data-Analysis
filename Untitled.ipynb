{
 "cells": [
  {
   "cell_type": "code",
   "execution_count": 1,
   "id": "2187df87",
   "metadata": {},
   "outputs": [],
   "source": [
    "test_set='MNIST - JPG - testing'"
   ]
  },
  {
   "cell_type": "code",
   "execution_count": 2,
   "id": "25584074",
   "metadata": {},
   "outputs": [],
   "source": [
    "train_set='MNIST - JPG - training'"
   ]
  },
  {
   "cell_type": "code",
   "execution_count": null,
   "id": "df8bdb67",
   "metadata": {},
   "outputs": [],
   "source": [
    "from tensorflow.keras.models import Sequential"
   ]
  },
  {
   "cell_type": "code",
   "execution_count": 4,
   "id": "66e1f54a",
   "metadata": {},
   "outputs": [],
   "source": [
    "classifier=Sequential()"
   ]
  },
  {
   "cell_type": "code",
   "execution_count": 5,
   "id": "cd013703",
   "metadata": {},
   "outputs": [
    {
     "name": "stdout",
     "output_type": "stream",
     "text": [
      "<keras.engine.sequential.Sequential object at 0x000001D9EAF7F990>\n"
     ]
    }
   ],
   "source": [
    "print(classifier)"
   ]
  },
  {
   "cell_type": "code",
   "execution_count": 6,
   "id": "a046ab3d",
   "metadata": {},
   "outputs": [],
   "source": [
    "classifier=Sequential()"
   ]
  },
  {
   "cell_type": "code",
   "execution_count": 7,
   "id": "0fccdb42",
   "metadata": {},
   "outputs": [],
   "source": [
    "from keras.layers import Convolution2D,MaxPooling2D,Flatten,Dense,Dropout"
   ]
  },
  {
   "cell_type": "code",
   "execution_count": 8,
   "id": "90f2a9e5",
   "metadata": {},
   "outputs": [],
   "source": [
    "classifier.add(Convolution2D(32,(3,3), input_shape=(256, 256, 1), activation='relu'))"
   ]
  },
  {
   "cell_type": "code",
   "execution_count": 9,
   "id": "041cdfd7",
   "metadata": {},
   "outputs": [
    {
     "name": "stdout",
     "output_type": "stream",
     "text": [
      "<keras.engine.sequential.Sequential object at 0x000001D9B34A7950>\n"
     ]
    }
   ],
   "source": [
    "print(classifier)"
   ]
  },
  {
   "cell_type": "code",
   "execution_count": 10,
   "id": "389cb0ed",
   "metadata": {},
   "outputs": [],
   "source": [
    "classifier.add(MaxPooling2D(pool_size=(2,2)))"
   ]
  },
  {
   "cell_type": "code",
   "execution_count": 11,
   "id": "8ffba477",
   "metadata": {},
   "outputs": [],
   "source": [
    "classifier.add(Convolution2D (32,(3,3),activation='relu'))"
   ]
  },
  {
   "cell_type": "code",
   "execution_count": 12,
   "id": "9d8ecc98",
   "metadata": {},
   "outputs": [],
   "source": [
    "classifier.add(MaxPooling2D(pool_size=(2,2)))"
   ]
  },
  {
   "cell_type": "code",
   "execution_count": 13,
   "id": "3b9f749f",
   "metadata": {},
   "outputs": [],
   "source": [
    "classifier.add(Flatten())"
   ]
  },
  {
   "cell_type": "code",
   "execution_count": 14,
   "id": "b0792bcf",
   "metadata": {},
   "outputs": [],
   "source": [
    "classifier.add(Dense(units=128, activation='relu')) \n",
    "classifier.add(Dropout(0.20))"
   ]
  },
  {
   "cell_type": "code",
   "execution_count": 15,
   "id": "7173e46e",
   "metadata": {},
   "outputs": [],
   "source": [
    "classifier.add(Dense(units=112, activation='relu')) \n",
    "classifier.add(Dropout(0.10))"
   ]
  },
  {
   "cell_type": "code",
   "execution_count": 16,
   "id": "2699e41f",
   "metadata": {},
   "outputs": [],
   "source": [
    "classifier.add(Dense(units=96, activation='relu')) \n",
    "classifier.add(Dropout(0.10))"
   ]
  },
  {
   "cell_type": "code",
   "execution_count": 17,
   "id": "884735be",
   "metadata": {},
   "outputs": [],
   "source": [
    "classifier.add(Dense(units=80, activation='relu')) \n",
    "classifier.add(Dropout(0.10))"
   ]
  },
  {
   "cell_type": "code",
   "execution_count": 18,
   "id": "36b3dbb6",
   "metadata": {},
   "outputs": [],
   "source": [
    "classifier.add(Dense(units=64, activation='relu')) "
   ]
  },
  {
   "cell_type": "code",
   "execution_count": 19,
   "id": "793b142c",
   "metadata": {},
   "outputs": [],
   "source": [
    "classifier.add(Dense(units=10, activation='softmax')) "
   ]
  },
  {
   "cell_type": "code",
   "execution_count": 20,
   "id": "301f6fa3",
   "metadata": {},
   "outputs": [],
   "source": [
    "classifier.compile(optimizer='adam',loss=\"categorical_crossentropy\",metrics=['accuracy'])"
   ]
  },
  {
   "cell_type": "code",
   "execution_count": 21,
   "id": "5a872dc4",
   "metadata": {},
   "outputs": [
    {
     "name": "stdout",
     "output_type": "stream",
     "text": [
      "Model: \"sequential_1\"\n",
      "_________________________________________________________________\n",
      " Layer (type)                Output Shape              Param #   \n",
      "=================================================================\n",
      " conv2d (Conv2D)             (None, 254, 254, 32)      320       \n",
      "                                                                 \n",
      " max_pooling2d (MaxPooling2D  (None, 127, 127, 32)     0         \n",
      " )                                                               \n",
      "                                                                 \n",
      " conv2d_1 (Conv2D)           (None, 125, 125, 32)      9248      \n",
      "                                                                 \n",
      " max_pooling2d_1 (MaxPooling  (None, 62, 62, 32)       0         \n",
      " 2D)                                                             \n",
      "                                                                 \n",
      " flatten (Flatten)           (None, 123008)            0         \n",
      "                                                                 \n",
      " dense (Dense)               (None, 128)               15745152  \n",
      "                                                                 \n",
      " dropout (Dropout)           (None, 128)               0         \n",
      "                                                                 \n",
      " dense_1 (Dense)             (None, 112)               14448     \n",
      "                                                                 \n",
      " dropout_1 (Dropout)         (None, 112)               0         \n",
      "                                                                 \n",
      " dense_2 (Dense)             (None, 96)                10848     \n",
      "                                                                 \n",
      " dropout_2 (Dropout)         (None, 96)                0         \n",
      "                                                                 \n",
      " dense_3 (Dense)             (None, 80)                7760      \n",
      "                                                                 \n",
      " dropout_3 (Dropout)         (None, 80)                0         \n",
      "                                                                 \n",
      " dense_4 (Dense)             (None, 64)                5184      \n",
      "                                                                 \n",
      " dense_5 (Dense)             (None, 10)                650       \n",
      "                                                                 \n",
      "=================================================================\n",
      "Total params: 15,793,610\n",
      "Trainable params: 15,793,610\n",
      "Non-trainable params: 0\n",
      "_________________________________________________________________\n"
     ]
    }
   ],
   "source": [
    "classifier.summary()"
   ]
  },
  {
   "cell_type": "code",
   "execution_count": 22,
   "id": "3c5582fe",
   "metadata": {},
   "outputs": [],
   "source": [
    "from keras.preprocessing.image import ImageDataGenerator\n",
    "train_datagen = ImageDataGenerator(\n",
    "    rescale=1./255,\n",
    "    shear_range=0.2,\n",
    "    zoom_range=0.2,\n",
    "    horizontal_flip=True)"
   ]
  },
  {
   "cell_type": "code",
   "execution_count": 23,
   "id": "5da63c84",
   "metadata": {},
   "outputs": [],
   "source": [
    "test_datagen=ImageDataGenerator(rescale=1./255)"
   ]
  },
  {
   "cell_type": "code",
   "execution_count": 24,
   "id": "64103db4",
   "metadata": {},
   "outputs": [
    {
     "name": "stdout",
     "output_type": "stream",
     "text": [
      "Found 60000 images belonging to 10 classes.\n"
     ]
    }
   ],
   "source": [
    "train_set=train_datagen.flow_from_directory(train_set,\n",
    "                                           target_size=(256,256),\n",
    "                                           batch_size=10,\n",
    "                                           color_mode='grayscale',\n",
    "                                           class_mode='categorical')"
   ]
  },
  {
   "cell_type": "raw",
   "id": "07551575",
   "metadata": {},
   "source": []
  },
  {
   "cell_type": "code",
   "execution_count": 25,
   "id": "ea6b65bf",
   "metadata": {},
   "outputs": [
    {
     "name": "stdout",
     "output_type": "stream",
     "text": [
      "Found 10000 images belonging to 10 classes.\n"
     ]
    }
   ],
   "source": [
    "test_set=test_datagen.flow_from_directory(test_set,\n",
    "                                           target_size=(256,256),\n",
    "                                           batch_size=10,\n",
    "                                           color_mode='grayscale',\n",
    "                                           class_mode='categorical')"
   ]
  },
  {
   "cell_type": "code",
   "execution_count": null,
   "id": "155bf132",
   "metadata": {},
   "outputs": [
    {
     "name": "stdout",
     "output_type": "stream",
     "text": [
      "Epoch 1/100\n",
      " 871/6000 [===>..........................] - ETA: 1:00:37 - loss: 1.0086 - accuracy: 0.6489"
     ]
    }
   ],
   "source": [
    "history=classifier.fit(\n",
    "    train_set,\n",
    "    steps_per_epoch=train_set.n // train_set.batch_size,\n",
    "    epochs=100,\n",
    "    validation_data=test_set,\n",
    "    validation_steps=test_set.n // test_set.batch_size,) "
   ]
  },
  {
   "cell_type": "code",
   "execution_count": null,
   "id": "5cdad4bd",
   "metadata": {},
   "outputs": [],
   "source": [
    "history.model.save('digit_recog-1epch.h5')"
   ]
  },
  {
   "cell_type": "code",
   "execution_count": null,
   "id": "29324846",
   "metadata": {},
   "outputs": [],
   "source": []
  },
  {
   "cell_type": "code",
   "execution_count": null,
   "id": "eaed4668",
   "metadata": {},
   "outputs": [],
   "source": []
  },
  {
   "cell_type": "code",
   "execution_count": null,
   "id": "d4ca9304",
   "metadata": {},
   "outputs": [],
   "source": []
  },
  {
   "cell_type": "code",
   "execution_count": null,
   "id": "38f8bcad",
   "metadata": {},
   "outputs": [],
   "source": []
  },
  {
   "cell_type": "code",
   "execution_count": null,
   "id": "88eb71b9",
   "metadata": {},
   "outputs": [],
   "source": []
  },
  {
   "cell_type": "code",
   "execution_count": null,
   "id": "b1e045b2",
   "metadata": {},
   "outputs": [],
   "source": []
  },
  {
   "cell_type": "code",
   "execution_count": null,
   "id": "0abccaff",
   "metadata": {},
   "outputs": [],
   "source": []
  }
 ],
 "metadata": {
  "kernelspec": {
   "display_name": "Python 3 (ipykernel)",
   "language": "python",
   "name": "python3"
  },
  "language_info": {
   "codemirror_mode": {
    "name": "ipython",
    "version": 3
   },
   "file_extension": ".py",
   "mimetype": "text/x-python",
   "name": "python",
   "nbconvert_exporter": "python",
   "pygments_lexer": "ipython3",
   "version": "3.11.2"
  }
 },
 "nbformat": 4,
 "nbformat_minor": 5
}

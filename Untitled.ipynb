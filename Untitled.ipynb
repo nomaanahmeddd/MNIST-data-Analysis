{
 "cells": [
  {
   "cell_type": "code",
   "execution_count": 52,
   "id": "2187df87",
   "metadata": {},
   "outputs": [],
   "source": [
    "test_set='MNIST - JPG - testing'"
   ]
  },
  {
   "cell_type": "code",
   "execution_count": 53,
   "id": "25584074",
   "metadata": {},
   "outputs": [],
   "source": [
    "train_set='MNIST - JPG - training'"
   ]
  },
  {
   "cell_type": "code",
   "execution_count": 54,
   "id": "df8bdb67",
   "metadata": {},
   "outputs": [],
   "source": [
    "from tensorflow.keras.models import Sequential"
   ]
  },
  {
   "cell_type": "code",
   "execution_count": 55,
   "id": "66e1f54a",
   "metadata": {},
   "outputs": [],
   "source": [
    "classifier=Sequential()"
   ]
  },
  {
   "cell_type": "code",
   "execution_count": 56,
   "id": "cd013703",
   "metadata": {},
   "outputs": [
    {
     "name": "stdout",
     "output_type": "stream",
     "text": [
      "<keras.engine.sequential.Sequential object at 0x0000013F83A3B690>\n"
     ]
    }
   ],
   "source": [
    "print(classifier)"
   ]
  },
  {
   "cell_type": "code",
   "execution_count": 57,
   "id": "a046ab3d",
   "metadata": {},
   "outputs": [],
   "source": [
    "classifier=Sequential()"
   ]
  },
  {
   "cell_type": "code",
   "execution_count": 58,
   "id": "0fccdb42",
   "metadata": {},
   "outputs": [],
   "source": [
    "from keras.layers import Convolution2D,MaxPooling2D,Flatten,Dense,Dropout"
   ]
  },
  {
   "cell_type": "code",
   "execution_count": 59,
   "id": "90f2a9e5",
   "metadata": {},
   "outputs": [],
   "source": [
    "classifier.add(Convolution2D(32,(3,3), input_shape=(256, 256, 1), activation='relu'))"
   ]
  },
  {
   "cell_type": "code",
   "execution_count": 60,
   "id": "041cdfd7",
   "metadata": {},
   "outputs": [
    {
     "name": "stdout",
     "output_type": "stream",
     "text": [
      "<keras.engine.sequential.Sequential object at 0x0000013F825B3E90>\n"
     ]
    }
   ],
   "source": [
    "print(classifier)"
   ]
  },
  {
   "cell_type": "code",
   "execution_count": 61,
   "id": "389cb0ed",
   "metadata": {},
   "outputs": [],
   "source": [
    "classifier.add(MaxPooling2D(pool_size=(2,2)))"
   ]
  },
  {
   "cell_type": "code",
   "execution_count": 64,
   "id": "8ffba477",
   "metadata": {},
   "outputs": [],
   "source": [
    "classifier.add(Convolution2D (32,(3,3),activation='relu'))"
   ]
  },
  {
   "cell_type": "code",
   "execution_count": 65,
   "id": "9d8ecc98",
   "metadata": {},
   "outputs": [],
   "source": [
    "classifier.add(MaxPooling2D(pool_size=(2,2)))"
   ]
  },
  {
   "cell_type": "code",
   "execution_count": 66,
   "id": "3b9f749f",
   "metadata": {},
   "outputs": [],
   "source": [
    "classifier.add(Flatten())"
   ]
  },
  {
   "cell_type": "code",
   "execution_count": 67,
   "id": "b0792bcf",
   "metadata": {},
   "outputs": [],
   "source": [
    "classifier.add(Dense(units=128, activation='relu')) \n",
    "classifier.add(Dropout(0.20))"
   ]
  },
  {
   "cell_type": "code",
   "execution_count": 68,
   "id": "7173e46e",
   "metadata": {},
   "outputs": [],
   "source": [
    "classifier.add(Dense(units=112, activation='relu')) \n",
    "classifier.add(Dropout(0.10))"
   ]
  },
  {
   "cell_type": "code",
   "execution_count": 69,
   "id": "2699e41f",
   "metadata": {},
   "outputs": [],
   "source": [
    "classifier.add(Dense(units=96, activation='relu')) \n",
    "classifier.add(Dropout(0.10))"
   ]
  },
  {
   "cell_type": "code",
   "execution_count": 70,
   "id": "884735be",
   "metadata": {},
   "outputs": [],
   "source": [
    "classifier.add(Dense(units=80, activation='relu')) \n",
    "classifier.add(Dropout(0.10))"
   ]
  },
  {
   "cell_type": "code",
   "execution_count": 71,
   "id": "36b3dbb6",
   "metadata": {},
   "outputs": [],
   "source": [
    "classifier.add(Dense(units=64, activation='relu')) "
   ]
  },
  {
   "cell_type": "code",
   "execution_count": 73,
   "id": "793b142c",
   "metadata": {},
   "outputs": [],
   "source": [
    "classifier.add(Dense(units=10, activation='softmax')) "
   ]
  },
  {
   "cell_type": "code",
   "execution_count": 74,
   "id": "301f6fa3",
   "metadata": {},
   "outputs": [],
   "source": [
    "classifier.compile(optimizer='adam',loss=\"categorical_crossentropy\",metrics=['accuracy'])"
   ]
  },
  {
   "cell_type": "code",
   "execution_count": 75,
   "id": "5a872dc4",
   "metadata": {},
   "outputs": [
    {
     "name": "stdout",
     "output_type": "stream",
     "text": [
      "Model: \"sequential_4\"\n",
      "_________________________________________________________________\n",
      " Layer (type)                Output Shape              Param #   \n",
      "=================================================================\n",
      " conv2d_9 (Conv2D)           (None, 254, 254, 32)      320       \n",
      "                                                                 \n",
      " max_pooling2d_6 (MaxPooling  (None, 127, 127, 32)     0         \n",
      " 2D)                                                             \n",
      "                                                                 \n",
      " conv2d_10 (Conv2D)          (None, 125, 125, 32)      9248      \n",
      "                                                                 \n",
      " max_pooling2d_7 (MaxPooling  (None, 62, 62, 32)       0         \n",
      " 2D)                                                             \n",
      "                                                                 \n",
      " conv2d_11 (Conv2D)          (None, 60, 60, 32)        9248      \n",
      "                                                                 \n",
      " max_pooling2d_8 (MaxPooling  (None, 30, 30, 32)       0         \n",
      " 2D)                                                             \n",
      "                                                                 \n",
      " flatten_3 (Flatten)         (None, 28800)             0         \n",
      "                                                                 \n",
      " dense_2 (Dense)             (None, 128)               3686528   \n",
      "                                                                 \n",
      " dropout_2 (Dropout)         (None, 128)               0         \n",
      "                                                                 \n",
      " dense_3 (Dense)             (None, 112)               14448     \n",
      "                                                                 \n",
      " dropout_3 (Dropout)         (None, 112)               0         \n",
      "                                                                 \n",
      " dense_4 (Dense)             (None, 96)                10848     \n",
      "                                                                 \n",
      " dropout_4 (Dropout)         (None, 96)                0         \n",
      "                                                                 \n",
      " dense_5 (Dense)             (None, 80)                7760      \n",
      "                                                                 \n",
      " dropout_5 (Dropout)         (None, 80)                0         \n",
      "                                                                 \n",
      " dense_6 (Dense)             (None, 64)                5184      \n",
      "                                                                 \n",
      " dense_8 (Dense)             (None, 10)                650       \n",
      "                                                                 \n",
      "=================================================================\n",
      "Total params: 3,744,234\n",
      "Trainable params: 3,744,234\n",
      "Non-trainable params: 0\n",
      "_________________________________________________________________\n"
     ]
    }
   ],
   "source": [
    "classifier.summary()"
   ]
  },
  {
   "cell_type": "code",
   "execution_count": null,
   "id": "3c5582fe",
   "metadata": {},
   "outputs": [],
   "source": []
  },
  {
   "cell_type": "code",
   "execution_count": null,
   "id": "5da63c84",
   "metadata": {},
   "outputs": [],
   "source": []
  },
  {
   "cell_type": "code",
   "execution_count": null,
   "id": "de8d48f9",
   "metadata": {},
   "outputs": [],
   "source": []
  },
  {
   "cell_type": "code",
   "execution_count": null,
   "id": "ea6b65bf",
   "metadata": {},
   "outputs": [],
   "source": []
  },
  {
   "cell_type": "code",
   "execution_count": null,
   "id": "155bf132",
   "metadata": {},
   "outputs": [],
   "source": []
  },
  {
   "cell_type": "code",
   "execution_count": null,
   "id": "5cdad4bd",
   "metadata": {},
   "outputs": [],
   "source": []
  },
  {
   "cell_type": "code",
   "execution_count": null,
   "id": "29324846",
   "metadata": {},
   "outputs": [],
   "source": []
  },
  {
   "cell_type": "code",
   "execution_count": null,
   "id": "eaed4668",
   "metadata": {},
   "outputs": [],
   "source": []
  },
  {
   "cell_type": "code",
   "execution_count": null,
   "id": "d4ca9304",
   "metadata": {},
   "outputs": [],
   "source": []
  },
  {
   "cell_type": "code",
   "execution_count": null,
   "id": "38f8bcad",
   "metadata": {},
   "outputs": [],
   "source": []
  },
  {
   "cell_type": "code",
   "execution_count": null,
   "id": "88eb71b9",
   "metadata": {},
   "outputs": [],
   "source": []
  },
  {
   "cell_type": "code",
   "execution_count": null,
   "id": "b1e045b2",
   "metadata": {},
   "outputs": [],
   "source": []
  },
  {
   "cell_type": "code",
   "execution_count": null,
   "id": "0abccaff",
   "metadata": {},
   "outputs": [],
   "source": []
  }
 ],
 "metadata": {
  "kernelspec": {
   "display_name": "Python 3 (ipykernel)",
   "language": "python",
   "name": "python3"
  },
  "language_info": {
   "codemirror_mode": {
    "name": "ipython",
    "version": 3
   },
   "file_extension": ".py",
   "mimetype": "text/x-python",
   "name": "python",
   "nbconvert_exporter": "python",
   "pygments_lexer": "ipython3",
   "version": "3.11.2"
  }
 },
 "nbformat": 4,
 "nbformat_minor": 5
}
